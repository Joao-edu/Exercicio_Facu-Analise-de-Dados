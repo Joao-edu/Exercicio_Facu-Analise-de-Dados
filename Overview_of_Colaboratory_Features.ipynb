{
  "nbformat": 4,
  "nbformat_minor": 0,
  "metadata": {
    "colab": {
      "name": "Overview of Colaboratory Features",
      "provenance": [],
      "collapsed_sections": [],
      "include_colab_link": true
    },
    "kernelspec": {
      "display_name": "Python 3",
      "name": "python3"
    }
  },
  "cells": [
    {
      "cell_type": "markdown",
      "metadata": {
        "id": "view-in-github",
        "colab_type": "text"
      },
      "source": [
        "<a href=\"https://colab.research.google.com/github/Joao-edu/Exercicio_Facu/blob/main/Overview_of_Colaboratory_Features.ipynb\" target=\"_parent\"><img src=\"https://colab.research.google.com/assets/colab-badge.svg\" alt=\"Open In Colab\"/></a>"
      ]
    },
    {
      "cell_type": "code",
      "metadata": {
        "id": "vp8L_EwTtP6L"
      },
      "source": [
        "# importar o repositorio do pandas.\n",
        "\n",
        "import pandas as pd\n",
        "import seaborn as sns\n"
      ],
      "execution_count": 47,
      "outputs": []
    },
    {
      "cell_type": "code",
      "metadata": {
        "id": "4Pxw4SACwAyM",
        "colab": {
          "base_uri": "https://localhost:8080/"
        },
        "outputId": "03329501-e3f3-4204-cc8d-91d05bd96628"
      },
      "source": [
        "# Checar a versão da biblioteca. \n",
        "!pip show pandas\n",
        "!pip show seaborn"
      ],
      "execution_count": 44,
      "outputs": [
        {
          "output_type": "stream",
          "name": "stdout",
          "text": [
            "Name: pandas\n",
            "Version: 1.1.5\n",
            "Summary: Powerful data structures for data analysis, time series, and statistics\n",
            "Home-page: https://pandas.pydata.org\n",
            "Author: None\n",
            "Author-email: None\n",
            "License: BSD\n",
            "Location: /usr/local/lib/python3.7/dist-packages\n",
            "Requires: pytz, python-dateutil, numpy\n",
            "Required-by: xarray, vega-datasets, statsmodels, sklearn-pandas, seaborn, pymc3, plotnine, pandas-profiling, pandas-gbq, pandas-datareader, mlxtend, mizani, holoviews, gspread-dataframe, google-colab, fix-yahoo-finance, fbprophet, fastai, cufflinks, cmdstanpy, arviz, altair\n",
            "Name: seaborn\n",
            "Version: 0.11.2\n",
            "Summary: seaborn: statistical data visualization\n",
            "Home-page: https://seaborn.pydata.org\n",
            "Author: Michael Waskom\n",
            "Author-email: mwaskom@gmail.com\n",
            "License: BSD (3-clause)\n",
            "Location: /usr/local/lib/python3.7/dist-packages\n",
            "Requires: scipy, matplotlib, pandas, numpy\n",
            "Required-by: missingno\n"
          ]
        }
      ]
    },
    {
      "cell_type": "code",
      "metadata": {
        "id": "DdqeaKzQwbii"
      },
      "source": [
        "# Carregar o aquivo pubDB.csv.\n",
        "db = pd.read_csv('pubDB.csv')"
      ],
      "execution_count": 4,
      "outputs": []
    },
    {
      "cell_type": "code",
      "metadata": {
        "colab": {
          "base_uri": "https://localhost:8080/"
        },
        "id": "ZA4O040kxwUD",
        "outputId": "ec06040a-756d-4299-a78e-13f4fccd32e6"
      },
      "source": [
        "# visualizar as colunas do arquivo carregado.\n",
        "db.columns"
      ],
      "execution_count": 6,
      "outputs": [
        {
          "output_type": "execute_result",
          "data": {
            "text/plain": [
              "Index(['total_bill', 'tip', 'dessert', 'day', 'time', 'size'], dtype='object')"
            ]
          },
          "metadata": {},
          "execution_count": 6
        }
      ]
    },
    {
      "cell_type": "code",
      "metadata": {
        "colab": {
          "base_uri": "https://localhost:8080/",
          "height": 669
        },
        "id": "rwQWzTX7yIHA",
        "outputId": "a47d86fb-e10c-46ea-9a12-1505cbce4274"
      },
      "source": [
        "# lê os valores da tabela  (( 20 ) o valor 20 seleciona as 20 primeiras linhas.\n",
        "db.head (20)"
      ],
      "execution_count": 8,
      "outputs": [
        {
          "output_type": "execute_result",
          "data": {
            "text/html": [
              "<div>\n",
              "<style scoped>\n",
              "    .dataframe tbody tr th:only-of-type {\n",
              "        vertical-align: middle;\n",
              "    }\n",
              "\n",
              "    .dataframe tbody tr th {\n",
              "        vertical-align: top;\n",
              "    }\n",
              "\n",
              "    .dataframe thead th {\n",
              "        text-align: right;\n",
              "    }\n",
              "</style>\n",
              "<table border=\"1\" class=\"dataframe\">\n",
              "  <thead>\n",
              "    <tr style=\"text-align: right;\">\n",
              "      <th></th>\n",
              "      <th>total_bill</th>\n",
              "      <th>tip</th>\n",
              "      <th>dessert</th>\n",
              "      <th>day</th>\n",
              "      <th>time</th>\n",
              "      <th>size</th>\n",
              "    </tr>\n",
              "  </thead>\n",
              "  <tbody>\n",
              "    <tr>\n",
              "      <th>0</th>\n",
              "      <td>16.99</td>\n",
              "      <td>1.01</td>\n",
              "      <td>No</td>\n",
              "      <td>Sun</td>\n",
              "      <td>Dinner</td>\n",
              "      <td>2</td>\n",
              "    </tr>\n",
              "    <tr>\n",
              "      <th>1</th>\n",
              "      <td>10.34</td>\n",
              "      <td>1.66</td>\n",
              "      <td>No</td>\n",
              "      <td>Sun</td>\n",
              "      <td>Dinner</td>\n",
              "      <td>3</td>\n",
              "    </tr>\n",
              "    <tr>\n",
              "      <th>2</th>\n",
              "      <td>21.01</td>\n",
              "      <td>3.50</td>\n",
              "      <td>No</td>\n",
              "      <td>Sun</td>\n",
              "      <td>Dinner</td>\n",
              "      <td>3</td>\n",
              "    </tr>\n",
              "    <tr>\n",
              "      <th>3</th>\n",
              "      <td>23.68</td>\n",
              "      <td>3.31</td>\n",
              "      <td>No</td>\n",
              "      <td>Sun</td>\n",
              "      <td>Dinner</td>\n",
              "      <td>2</td>\n",
              "    </tr>\n",
              "    <tr>\n",
              "      <th>4</th>\n",
              "      <td>24.59</td>\n",
              "      <td>3.61</td>\n",
              "      <td>No</td>\n",
              "      <td>Sun</td>\n",
              "      <td>Dinner</td>\n",
              "      <td>4</td>\n",
              "    </tr>\n",
              "    <tr>\n",
              "      <th>5</th>\n",
              "      <td>25.29</td>\n",
              "      <td>4.71</td>\n",
              "      <td>No</td>\n",
              "      <td>Sun</td>\n",
              "      <td>Dinner</td>\n",
              "      <td>4</td>\n",
              "    </tr>\n",
              "    <tr>\n",
              "      <th>6</th>\n",
              "      <td>8.77</td>\n",
              "      <td>2.00</td>\n",
              "      <td>No</td>\n",
              "      <td>Sun</td>\n",
              "      <td>Dinner</td>\n",
              "      <td>2</td>\n",
              "    </tr>\n",
              "    <tr>\n",
              "      <th>7</th>\n",
              "      <td>26.88</td>\n",
              "      <td>3.12</td>\n",
              "      <td>No</td>\n",
              "      <td>Sun</td>\n",
              "      <td>Dinner</td>\n",
              "      <td>4</td>\n",
              "    </tr>\n",
              "    <tr>\n",
              "      <th>8</th>\n",
              "      <td>15.04</td>\n",
              "      <td>1.96</td>\n",
              "      <td>No</td>\n",
              "      <td>Sun</td>\n",
              "      <td>Dinner</td>\n",
              "      <td>2</td>\n",
              "    </tr>\n",
              "    <tr>\n",
              "      <th>9</th>\n",
              "      <td>14.78</td>\n",
              "      <td>3.23</td>\n",
              "      <td>No</td>\n",
              "      <td>Sun</td>\n",
              "      <td>Dinner</td>\n",
              "      <td>2</td>\n",
              "    </tr>\n",
              "    <tr>\n",
              "      <th>10</th>\n",
              "      <td>10.27</td>\n",
              "      <td>1.71</td>\n",
              "      <td>No</td>\n",
              "      <td>Sun</td>\n",
              "      <td>Dinner</td>\n",
              "      <td>2</td>\n",
              "    </tr>\n",
              "    <tr>\n",
              "      <th>11</th>\n",
              "      <td>35.26</td>\n",
              "      <td>5.00</td>\n",
              "      <td>No</td>\n",
              "      <td>Sun</td>\n",
              "      <td>Dinner</td>\n",
              "      <td>4</td>\n",
              "    </tr>\n",
              "    <tr>\n",
              "      <th>12</th>\n",
              "      <td>15.42</td>\n",
              "      <td>1.57</td>\n",
              "      <td>No</td>\n",
              "      <td>Sun</td>\n",
              "      <td>Dinner</td>\n",
              "      <td>2</td>\n",
              "    </tr>\n",
              "    <tr>\n",
              "      <th>13</th>\n",
              "      <td>18.43</td>\n",
              "      <td>3.00</td>\n",
              "      <td>No</td>\n",
              "      <td>Sun</td>\n",
              "      <td>Dinner</td>\n",
              "      <td>4</td>\n",
              "    </tr>\n",
              "    <tr>\n",
              "      <th>14</th>\n",
              "      <td>14.83</td>\n",
              "      <td>3.02</td>\n",
              "      <td>No</td>\n",
              "      <td>Sun</td>\n",
              "      <td>Dinner</td>\n",
              "      <td>2</td>\n",
              "    </tr>\n",
              "    <tr>\n",
              "      <th>15</th>\n",
              "      <td>21.58</td>\n",
              "      <td>3.92</td>\n",
              "      <td>No</td>\n",
              "      <td>Sun</td>\n",
              "      <td>Dinner</td>\n",
              "      <td>2</td>\n",
              "    </tr>\n",
              "    <tr>\n",
              "      <th>16</th>\n",
              "      <td>10.33</td>\n",
              "      <td>1.67</td>\n",
              "      <td>No</td>\n",
              "      <td>Sun</td>\n",
              "      <td>Dinner</td>\n",
              "      <td>3</td>\n",
              "    </tr>\n",
              "    <tr>\n",
              "      <th>17</th>\n",
              "      <td>16.29</td>\n",
              "      <td>3.71</td>\n",
              "      <td>No</td>\n",
              "      <td>Sun</td>\n",
              "      <td>Dinner</td>\n",
              "      <td>3</td>\n",
              "    </tr>\n",
              "    <tr>\n",
              "      <th>18</th>\n",
              "      <td>16.97</td>\n",
              "      <td>3.50</td>\n",
              "      <td>No</td>\n",
              "      <td>Sun</td>\n",
              "      <td>Dinner</td>\n",
              "      <td>3</td>\n",
              "    </tr>\n",
              "    <tr>\n",
              "      <th>19</th>\n",
              "      <td>20.65</td>\n",
              "      <td>3.35</td>\n",
              "      <td>No</td>\n",
              "      <td>Sat</td>\n",
              "      <td>Dinner</td>\n",
              "      <td>3</td>\n",
              "    </tr>\n",
              "  </tbody>\n",
              "</table>\n",
              "</div>"
            ],
            "text/plain": [
              "    total_bill   tip dessert  day    time  size\n",
              "0        16.99  1.01      No  Sun  Dinner     2\n",
              "1        10.34  1.66      No  Sun  Dinner     3\n",
              "2        21.01  3.50      No  Sun  Dinner     3\n",
              "3        23.68  3.31      No  Sun  Dinner     2\n",
              "4        24.59  3.61      No  Sun  Dinner     4\n",
              "5        25.29  4.71      No  Sun  Dinner     4\n",
              "6         8.77  2.00      No  Sun  Dinner     2\n",
              "7        26.88  3.12      No  Sun  Dinner     4\n",
              "8        15.04  1.96      No  Sun  Dinner     2\n",
              "9        14.78  3.23      No  Sun  Dinner     2\n",
              "10       10.27  1.71      No  Sun  Dinner     2\n",
              "11       35.26  5.00      No  Sun  Dinner     4\n",
              "12       15.42  1.57      No  Sun  Dinner     2\n",
              "13       18.43  3.00      No  Sun  Dinner     4\n",
              "14       14.83  3.02      No  Sun  Dinner     2\n",
              "15       21.58  3.92      No  Sun  Dinner     2\n",
              "16       10.33  1.67      No  Sun  Dinner     3\n",
              "17       16.29  3.71      No  Sun  Dinner     3\n",
              "18       16.97  3.50      No  Sun  Dinner     3\n",
              "19       20.65  3.35      No  Sat  Dinner     3"
            ]
          },
          "metadata": {},
          "execution_count": 8
        }
      ]
    },
    {
      "cell_type": "code",
      "metadata": {
        "colab": {
          "base_uri": "https://localhost:8080/"
        },
        "id": "h_mAtgGZzKd1",
        "outputId": "71a3bb67-bbd7-4ee7-fb22-dd87092ce375"
      },
      "source": [
        "db.columns "
      ],
      "execution_count": 9,
      "outputs": [
        {
          "output_type": "execute_result",
          "data": {
            "text/plain": [
              "Index(['total_bill', 'tip', 'dessert', 'day', 'time', 'size'], dtype='object')"
            ]
          },
          "metadata": {},
          "execution_count": 9
        }
      ]
    },
    {
      "cell_type": "code",
      "metadata": {
        "id": "1QAKJXJF1m-A"
      },
      "source": [
        "# Altera os nomes das colunas.\n",
        "renomear = {'total_bill' : 'Conta', \n",
        "            'tip'        : 'Gorjeta', \n",
        "            'dessert'    : 'Sobremesa', \n",
        "            'day'        : 'Dia', \n",
        "            'time'       : 'Horario', \n",
        "            'size'       : 'Pessoas'}"
      ],
      "execution_count": 10,
      "outputs": []
    },
    {
      "cell_type": "code",
      "metadata": {
        "id": "Vp97NBv_37T6"
      },
      "source": [
        "# Valida as alteraçoes dos nomes.\n",
        "db = db.rename(columns = renomear)"
      ],
      "execution_count": 11,
      "outputs": []
    },
    {
      "cell_type": "code",
      "metadata": {
        "colab": {
          "base_uri": "https://localhost:8080/"
        },
        "id": "kJMeb1OW4J82",
        "outputId": "8ca319cc-c5f8-4c3c-cf7f-69ac54e592c9"
      },
      "source": [
        "db.columns"
      ],
      "execution_count": 12,
      "outputs": [
        {
          "output_type": "execute_result",
          "data": {
            "text/plain": [
              "Index(['Conta', 'Gorjeta', 'Sobremesa', 'Dia', 'Horario', 'Pessoas'], dtype='object')"
            ]
          },
          "metadata": {},
          "execution_count": 12
        }
      ]
    },
    {
      "cell_type": "code",
      "metadata": {
        "colab": {
          "base_uri": "https://localhost:8080/",
          "height": 204
        },
        "id": "qH99eQtc4yka",
        "outputId": "ba2f33af-b8e9-4e09-f586-20c2d7ae7d7e"
      },
      "source": [
        "db.head()"
      ],
      "execution_count": 14,
      "outputs": [
        {
          "output_type": "execute_result",
          "data": {
            "text/html": [
              "<div>\n",
              "<style scoped>\n",
              "    .dataframe tbody tr th:only-of-type {\n",
              "        vertical-align: middle;\n",
              "    }\n",
              "\n",
              "    .dataframe tbody tr th {\n",
              "        vertical-align: top;\n",
              "    }\n",
              "\n",
              "    .dataframe thead th {\n",
              "        text-align: right;\n",
              "    }\n",
              "</style>\n",
              "<table border=\"1\" class=\"dataframe\">\n",
              "  <thead>\n",
              "    <tr style=\"text-align: right;\">\n",
              "      <th></th>\n",
              "      <th>Conta</th>\n",
              "      <th>Gorjeta</th>\n",
              "      <th>Sobremesa</th>\n",
              "      <th>Dia</th>\n",
              "      <th>Horario</th>\n",
              "      <th>Pessoas</th>\n",
              "    </tr>\n",
              "  </thead>\n",
              "  <tbody>\n",
              "    <tr>\n",
              "      <th>0</th>\n",
              "      <td>16.99</td>\n",
              "      <td>1.01</td>\n",
              "      <td>No</td>\n",
              "      <td>Sun</td>\n",
              "      <td>Dinner</td>\n",
              "      <td>2</td>\n",
              "    </tr>\n",
              "    <tr>\n",
              "      <th>1</th>\n",
              "      <td>10.34</td>\n",
              "      <td>1.66</td>\n",
              "      <td>No</td>\n",
              "      <td>Sun</td>\n",
              "      <td>Dinner</td>\n",
              "      <td>3</td>\n",
              "    </tr>\n",
              "    <tr>\n",
              "      <th>2</th>\n",
              "      <td>21.01</td>\n",
              "      <td>3.50</td>\n",
              "      <td>No</td>\n",
              "      <td>Sun</td>\n",
              "      <td>Dinner</td>\n",
              "      <td>3</td>\n",
              "    </tr>\n",
              "    <tr>\n",
              "      <th>3</th>\n",
              "      <td>23.68</td>\n",
              "      <td>3.31</td>\n",
              "      <td>No</td>\n",
              "      <td>Sun</td>\n",
              "      <td>Dinner</td>\n",
              "      <td>2</td>\n",
              "    </tr>\n",
              "    <tr>\n",
              "      <th>4</th>\n",
              "      <td>24.59</td>\n",
              "      <td>3.61</td>\n",
              "      <td>No</td>\n",
              "      <td>Sun</td>\n",
              "      <td>Dinner</td>\n",
              "      <td>4</td>\n",
              "    </tr>\n",
              "  </tbody>\n",
              "</table>\n",
              "</div>"
            ],
            "text/plain": [
              "   Conta  Gorjeta Sobremesa  Dia Horario  Pessoas\n",
              "0  16.99     1.01        No  Sun  Dinner        2\n",
              "1  10.34     1.66        No  Sun  Dinner        3\n",
              "2  21.01     3.50        No  Sun  Dinner        3\n",
              "3  23.68     3.31        No  Sun  Dinner        2\n",
              "4  24.59     3.61        No  Sun  Dinner        4"
            ]
          },
          "metadata": {},
          "execution_count": 14
        }
      ]
    },
    {
      "cell_type": "code",
      "metadata": {
        "colab": {
          "base_uri": "https://localhost:8080/"
        },
        "id": "RrbaTINW_2Tz",
        "outputId": "c4184afa-c6f1-4793-fad4-d135801b367a"
      },
      "source": [
        "# imprime os valoras da coluna Dia.\n",
        "db.Dia.unique()"
      ],
      "execution_count": 16,
      "outputs": [
        {
          "output_type": "execute_result",
          "data": {
            "text/plain": [
              "array(['Sun', 'Sat', 'Thur', 'Fri'], dtype=object)"
            ]
          },
          "metadata": {},
          "execution_count": 16
        }
      ]
    },
    {
      "cell_type": "code",
      "metadata": {
        "colab": {
          "base_uri": "https://localhost:8080/"
        },
        "id": "GwtnQ0pZCzPg",
        "outputId": "2d7dda41-40d4-4dab-da01-88a3e964c66e"
      },
      "source": [
        "# imprime os valoras da coluna Horario.\n",
        "db.Horario.unique()"
      ],
      "execution_count": 18,
      "outputs": [
        {
          "output_type": "execute_result",
          "data": {
            "text/plain": [
              "array(['Dinner', 'Lunch'], dtype=object)"
            ]
          },
          "metadata": {},
          "execution_count": 18
        }
      ]
    },
    {
      "cell_type": "code",
      "metadata": {
        "colab": {
          "base_uri": "https://localhost:8080/"
        },
        "id": "e1CQalc_C57q",
        "outputId": "af971c44-0e5a-44bd-b13c-1e3f97dd3b02"
      },
      "source": [
        "# imprime os valoras da coluna Sobremesa.\n",
        "db.Sobremesa.unique()"
      ],
      "execution_count": 19,
      "outputs": [
        {
          "output_type": "execute_result",
          "data": {
            "text/plain": [
              "array(['No', 'Yes'], dtype=object)"
            ]
          },
          "metadata": {},
          "execution_count": 19
        }
      ]
    },
    {
      "cell_type": "code",
      "metadata": {
        "id": "T8oQaQjXDGym"
      },
      "source": [
        "# Altera os nomes dos dias \n",
        "dias = {  'Sun'  : 'Domingo',\n",
        "          'Sat'  : 'Sabado',\n",
        "          'Thur' : 'Quinta',\n",
        "          'Fri'  : 'Sexta' \n",
        "       }"
      ],
      "execution_count": 22,
      "outputs": []
    },
    {
      "cell_type": "code",
      "metadata": {
        "colab": {
          "base_uri": "https://localhost:8080/"
        },
        "id": "37yRDHGAFTre",
        "outputId": "a0e2b1e2-bdff-444b-b643-53d2453b2862"
      },
      "source": [
        "# Faz o mapeamento dos dias e mostra os registro.\n",
        "db.Dia.map(dias)"
      ],
      "execution_count": 24,
      "outputs": [
        {
          "output_type": "execute_result",
          "data": {
            "text/plain": [
              "0      Domingo\n",
              "1      Domingo\n",
              "2      Domingo\n",
              "3      Domingo\n",
              "4      Domingo\n",
              "        ...   \n",
              "239     Sabado\n",
              "240     Sabado\n",
              "241     Sabado\n",
              "242     Sabado\n",
              "243     Quinta\n",
              "Name: Dia, Length: 244, dtype: object"
            ]
          },
          "metadata": {},
          "execution_count": 24
        }
      ]
    },
    {
      "cell_type": "code",
      "metadata": {
        "id": "PSURurddG1OM"
      },
      "source": [
        "#valida as mudanças dos nomes da coluna Dia.\n",
        "db.Dia = db.Dia.map(dias)"
      ],
      "execution_count": 25,
      "outputs": []
    },
    {
      "cell_type": "code",
      "metadata": {
        "colab": {
          "base_uri": "https://localhost:8080/"
        },
        "id": "45AL6_-4NnAw",
        "outputId": "f5e3d170-45cc-4eba-a523-11b41b0e5fbf"
      },
      "source": [
        "db.Dia.unique()"
      ],
      "execution_count": 27,
      "outputs": [
        {
          "output_type": "execute_result",
          "data": {
            "text/plain": [
              "array(['Domingo', 'Sabado', 'Quinta', 'Sexta'], dtype=object)"
            ]
          },
          "metadata": {},
          "execution_count": 27
        }
      ]
    },
    {
      "cell_type": "code",
      "metadata": {
        "colab": {
          "base_uri": "https://localhost:8080/"
        },
        "id": "UiaC6agQOB2l",
        "outputId": "25b17955-2c08-434c-f602-b5736d6a3674"
      },
      "source": [
        "# tipo de dado dataFrame\n",
        "type(db)"
      ],
      "execution_count": 28,
      "outputs": [
        {
          "output_type": "execute_result",
          "data": {
            "text/plain": [
              "pandas.core.frame.DataFrame"
            ]
          },
          "metadata": {},
          "execution_count": 28
        }
      ]
    },
    {
      "cell_type": "markdown",
      "metadata": {
        "id": "vlYmf-jGPGPU"
      },
      "source": [
        "# DataFrame conjunto de linha e coluna x conjunto de array lista de dados\n",
        " "
      ]
    },
    {
      "cell_type": "code",
      "metadata": {
        "colab": {
          "base_uri": "https://localhost:8080/"
        },
        "id": "dFkATbFfPuI3",
        "outputId": "c87d50ba-3210-4c33-cd4c-0dcd950debbe"
      },
      "source": [
        "db.Horario.unique ()"
      ],
      "execution_count": 29,
      "outputs": [
        {
          "output_type": "execute_result",
          "data": {
            "text/plain": [
              "array(['Dinner', 'Lunch'], dtype=object)"
            ]
          },
          "metadata": {},
          "execution_count": 29
        }
      ]
    },
    {
      "cell_type": "code",
      "metadata": {
        "id": "F_QTSkaIQDgD"
      },
      "source": [
        "#altera os nome da coluna \n",
        "hora =    {'Dinner': 'Janta ',\n",
        "           'Lunch' : 'Almoço'\n",
        "          }"
      ],
      "execution_count": 32,
      "outputs": []
    },
    {
      "cell_type": "code",
      "metadata": {
        "id": "xj2dGe2hRnJs"
      },
      "source": [
        "# Valida as informaçoes da coluna Horario\n",
        "db.Horario = db.Horario.map(hora) "
      ],
      "execution_count": 33,
      "outputs": []
    },
    {
      "cell_type": "code",
      "metadata": {
        "colab": {
          "base_uri": "https://localhost:8080/",
          "height": 204
        },
        "id": "2x-ABhWPSIdt",
        "outputId": "9932a8a4-9466-470b-bc4f-fa6ec11d88ef"
      },
      "source": [
        "db.head( )"
      ],
      "execution_count": 36,
      "outputs": [
        {
          "output_type": "execute_result",
          "data": {
            "text/html": [
              "<div>\n",
              "<style scoped>\n",
              "    .dataframe tbody tr th:only-of-type {\n",
              "        vertical-align: middle;\n",
              "    }\n",
              "\n",
              "    .dataframe tbody tr th {\n",
              "        vertical-align: top;\n",
              "    }\n",
              "\n",
              "    .dataframe thead th {\n",
              "        text-align: right;\n",
              "    }\n",
              "</style>\n",
              "<table border=\"1\" class=\"dataframe\">\n",
              "  <thead>\n",
              "    <tr style=\"text-align: right;\">\n",
              "      <th></th>\n",
              "      <th>Conta</th>\n",
              "      <th>Gorjeta</th>\n",
              "      <th>Sobremesa</th>\n",
              "      <th>Dia</th>\n",
              "      <th>Horario</th>\n",
              "      <th>Pessoas</th>\n",
              "    </tr>\n",
              "  </thead>\n",
              "  <tbody>\n",
              "    <tr>\n",
              "      <th>0</th>\n",
              "      <td>16.99</td>\n",
              "      <td>1.01</td>\n",
              "      <td>No</td>\n",
              "      <td>Domingo</td>\n",
              "      <td>Janta</td>\n",
              "      <td>2</td>\n",
              "    </tr>\n",
              "    <tr>\n",
              "      <th>1</th>\n",
              "      <td>10.34</td>\n",
              "      <td>1.66</td>\n",
              "      <td>No</td>\n",
              "      <td>Domingo</td>\n",
              "      <td>Janta</td>\n",
              "      <td>3</td>\n",
              "    </tr>\n",
              "    <tr>\n",
              "      <th>2</th>\n",
              "      <td>21.01</td>\n",
              "      <td>3.50</td>\n",
              "      <td>No</td>\n",
              "      <td>Domingo</td>\n",
              "      <td>Janta</td>\n",
              "      <td>3</td>\n",
              "    </tr>\n",
              "    <tr>\n",
              "      <th>3</th>\n",
              "      <td>23.68</td>\n",
              "      <td>3.31</td>\n",
              "      <td>No</td>\n",
              "      <td>Domingo</td>\n",
              "      <td>Janta</td>\n",
              "      <td>2</td>\n",
              "    </tr>\n",
              "    <tr>\n",
              "      <th>4</th>\n",
              "      <td>24.59</td>\n",
              "      <td>3.61</td>\n",
              "      <td>No</td>\n",
              "      <td>Domingo</td>\n",
              "      <td>Janta</td>\n",
              "      <td>4</td>\n",
              "    </tr>\n",
              "  </tbody>\n",
              "</table>\n",
              "</div>"
            ],
            "text/plain": [
              "   Conta  Gorjeta Sobremesa      Dia Horario  Pessoas\n",
              "0  16.99     1.01        No  Domingo  Janta         2\n",
              "1  10.34     1.66        No  Domingo  Janta         3\n",
              "2  21.01     3.50        No  Domingo  Janta         3\n",
              "3  23.68     3.31        No  Domingo  Janta         2\n",
              "4  24.59     3.61        No  Domingo  Janta         4"
            ]
          },
          "metadata": {},
          "execution_count": 36
        }
      ]
    },
    {
      "cell_type": "code",
      "metadata": {
        "colab": {
          "base_uri": "https://localhost:8080/"
        },
        "id": "FqAfiChlSr16",
        "outputId": "d939bd2c-a643-4263-d83d-6a221e33e051"
      },
      "source": [
        "db.Sobremesa.unique() "
      ],
      "execution_count": 39,
      "outputs": [
        {
          "output_type": "execute_result",
          "data": {
            "text/plain": [
              "array(['No', 'Yes'], dtype=object)"
            ]
          },
          "metadata": {},
          "execution_count": 39
        }
      ]
    },
    {
      "cell_type": "code",
      "metadata": {
        "id": "0BYKA2HsTC1T"
      },
      "source": [
        "# Altera os nomes dentro da coluna Sobremesa \n",
        "sim_nao = {'No'  : 'não',\n",
        "           'Yes' : 'sim'\n",
        "          }"
      ],
      "execution_count": 41,
      "outputs": []
    },
    {
      "cell_type": "code",
      "metadata": {
        "id": "WptznOgGUa9B"
      },
      "source": [
        "#Valida as alteraçoes no Coluna Sobemesa \n",
        "db.Sobremesa = db.Sobremesa.map(sim_nao)"
      ],
      "execution_count": 45,
      "outputs": []
    },
    {
      "cell_type": "code",
      "metadata": {
        "colab": {
          "base_uri": "https://localhost:8080/",
          "height": 296
        },
        "id": "LPGSeP2KUb7n",
        "outputId": "2dbdc7c6-2c11-4076-f273-662b943f6b8f"
      },
      "source": [
        "sns.scatterplot(x='Conta', y='Gorjeta', data=db)"
      ],
      "execution_count": 49,
      "outputs": [
        {
          "output_type": "execute_result",
          "data": {
            "text/plain": [
              "<matplotlib.axes._subplots.AxesSubplot at 0x7f1ad43a4e90>"
            ]
          },
          "metadata": {},
          "execution_count": 49
        },
        {
          "output_type": "display_data",
          "data": {
            "image/png": "[encoded data removed]",
            "text/plain": [
              "<Figure size 432x288 with 1 Axes>"
            ]
          },
          "metadata": {
            "needs_background": "light"
          }
        }
      ]
    },
    {
      "cell_type": "code",
      "metadata": {
        "colab": {
          "base_uri": "https://localhost:8080/"
        },
        "id": "eZlYoBcBYQIr",
        "outputId": "848a5d7a-8e7d-469e-f330-f787ce4d0c42"
      },
      "source": [
        "db.count()"
      ],
      "execution_count": 50,
      "outputs": [
        {
          "output_type": "execute_result",
          "data": {
            "text/plain": [
              "Conta        244\n",
              "Gorjeta      244\n",
              "Sobremesa      0\n",
              "Dia          244\n",
              "Horario      244\n",
              "Pessoas      244\n",
              "dtype: int64"
            ]
          },
          "metadata": {},
          "execution_count": 50
        }
      ]
    },
    {
      "cell_type": "code",
      "metadata": {
        "id": "B7V5WjrrZdLm"
      },
      "source": [
        "# MÉDIA = Conhecida como média aritmética simples, é a operação em que todos \n",
        "#os dados de um determinado conjunto são somados e divididos pelo valor total de \n",
        "#membros encontrados. \n",
        "\n",
        "# MEDIANA = A Mediana (Md) significa a medida central de um conjunto de dados. \n",
        "#O seu cálculo depende de certas regras. \n",
        "\n",
        "# MODA    = A Moda (Mo) é o valor que mais aparece dentro de um conjunto \n",
        "#quantitativo. Com isso, para identificá-la, é necessário encontrar a frequência\n",
        "#de determinados dados.\n"
      ],
      "execution_count": null,
      "outputs": []
    }
  ]
}